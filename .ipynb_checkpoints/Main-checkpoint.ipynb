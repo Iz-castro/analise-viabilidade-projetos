{
<<<<<<< HEAD
 "cells": [],
 "metadata": {},
=======
 "cells": [
  {
   "cell_type": "code",
   "execution_count": 1,
   "id": "9b69ca8a-c7f0-400e-960b-4f1fe41011a9",
   "metadata": {},
   "outputs": [],
   "source": [
    "import pandas as pd\n",
    "import numpy as np\n",
    "import joblib\n",
    "import cloudpickle\n",
    "\n",
    "from sklearn.model_selection import train_test_split\n",
    "from sklearn.preprocessing import StandardScaler, OneHotEncoder\n",
    "from sklearn.compose import ColumnTransformer\n",
    "from sklearn.pipeline import Pipeline\n",
    "from sklearn.linear_model import LogisticRegression\n",
    "from sklearn.metrics import classification_report, accuracy_score"
   ]
  },
  {
   "cell_type": "code",
   "execution_count": 2,
   "id": "42615668-987b-46cf-9720-181263e691b0",
   "metadata": {},
   "outputs": [
    {
     "data": {
      "text/html": [
       "<div>\n",
       "<style scoped>\n",
       "    .dataframe tbody tr th:only-of-type {\n",
       "        vertical-align: middle;\n",
       "    }\n",
       "\n",
       "    .dataframe tbody tr th {\n",
       "        vertical-align: top;\n",
       "    }\n",
       "\n",
       "    .dataframe thead th {\n",
       "        text-align: right;\n",
       "    }\n",
       "</style>\n",
       "<table border=\"1\" class=\"dataframe\">\n",
       "  <thead>\n",
       "    <tr style=\"text-align: right;\">\n",
       "      <th></th>\n",
       "      <th>nome_projeto</th>\n",
       "      <th>tempo_execucao_meses</th>\n",
       "      <th>custo_total_mil_reais</th>\n",
       "      <th>recursos_humanos</th>\n",
       "      <th>complexidade_tecnica</th>\n",
       "      <th>grau_inovacao</th>\n",
       "      <th>setor_atuacao</th>\n",
       "      <th>risco</th>\n",
       "      <th>viavel</th>\n",
       "    </tr>\n",
       "  </thead>\n",
       "  <tbody>\n",
       "    <tr>\n",
       "      <th>0</th>\n",
       "      <td>Projeto_1</td>\n",
       "      <td>22</td>\n",
       "      <td>728</td>\n",
       "      <td>21</td>\n",
       "      <td>Média</td>\n",
       "      <td>Médio</td>\n",
       "      <td>Saúde</td>\n",
       "      <td>Baixo</td>\n",
       "      <td>0</td>\n",
       "    </tr>\n",
       "    <tr>\n",
       "      <th>1</th>\n",
       "      <td>Projeto_2</td>\n",
       "      <td>14</td>\n",
       "      <td>632</td>\n",
       "      <td>10</td>\n",
       "      <td>Alta</td>\n",
       "      <td>Médio</td>\n",
       "      <td>Tecnologia</td>\n",
       "      <td>Baixo</td>\n",
       "      <td>0</td>\n",
       "    </tr>\n",
       "    <tr>\n",
       "      <th>2</th>\n",
       "      <td>Projeto_3</td>\n",
       "      <td>23</td>\n",
       "      <td>923</td>\n",
       "      <td>11</td>\n",
       "      <td>Baixa</td>\n",
       "      <td>Médio</td>\n",
       "      <td>Industrial</td>\n",
       "      <td>Médio</td>\n",
       "      <td>0</td>\n",
       "    </tr>\n",
       "    <tr>\n",
       "      <th>3</th>\n",
       "      <td>Projeto_4</td>\n",
       "      <td>13</td>\n",
       "      <td>615</td>\n",
       "      <td>18</td>\n",
       "      <td>Média</td>\n",
       "      <td>Baixo</td>\n",
       "      <td>Tecnologia</td>\n",
       "      <td>Médio</td>\n",
       "      <td>1</td>\n",
       "    </tr>\n",
       "    <tr>\n",
       "      <th>4</th>\n",
       "      <td>Projeto_5</td>\n",
       "      <td>11</td>\n",
       "      <td>294</td>\n",
       "      <td>13</td>\n",
       "      <td>Média</td>\n",
       "      <td>Médio</td>\n",
       "      <td>Educação</td>\n",
       "      <td>Médio</td>\n",
       "      <td>1</td>\n",
       "    </tr>\n",
       "  </tbody>\n",
       "</table>\n",
       "</div>"
      ],
      "text/plain": [
       "  nome_projeto  tempo_execucao_meses  custo_total_mil_reais  recursos_humanos  \\\n",
       "0    Projeto_1                    22                    728                21   \n",
       "1    Projeto_2                    14                    632                10   \n",
       "2    Projeto_3                    23                    923                11   \n",
       "3    Projeto_4                    13                    615                18   \n",
       "4    Projeto_5                    11                    294                13   \n",
       "\n",
       "  complexidade_tecnica grau_inovacao setor_atuacao  risco  viavel  \n",
       "0                Média         Médio         Saúde  Baixo       0  \n",
       "1                 Alta         Médio    Tecnologia  Baixo       0  \n",
       "2                Baixa         Médio    Industrial  Médio       0  \n",
       "3                Média         Baixo    Tecnologia  Médio       1  \n",
       "4                Média         Médio      Educação  Médio       1  "
      ]
     },
     "execution_count": 2,
     "metadata": {},
     "output_type": "execute_result"
    }
   ],
   "source": [
    "# Carregamento do CSV\n",
    "df = pd.read_csv(\"projetos_1000.csv\")\n",
    "\n",
    "# Visualizar os primeiros dados\n",
    "df.head()"
   ]
  },
  {
   "cell_type": "code",
   "execution_count": 3,
   "id": "645e41f6-41d8-4f80-8b89-0e1b474e80eb",
   "metadata": {},
   "outputs": [
    {
     "name": "stdout",
     "output_type": "stream",
     "text": [
      "Colunas numéricas: ['tempo_execucao_meses', 'custo_total_mil_reais', 'recursos_humanos']\n",
      "Colunas categóricas: ['complexidade_tecnica', 'grau_inovacao', 'setor_atuacao', 'risco']\n"
     ]
    }
   ],
   "source": [
    "# Separar variável alvo (y) e preditoras (X)\n",
    "X = df.drop(columns=['nome_projeto', 'viavel'])  # removemos também o nome do projeto, que não é útil para predição\n",
    "y = df['viavel']\n",
    "\n",
    "# Identificar colunas numéricas e categóricas\n",
    "colunas_numericas = ['tempo_execucao_meses', 'custo_total_mil_reais', 'recursos_humanos']\n",
    "colunas_categoricas = ['complexidade_tecnica', 'grau_inovacao', 'setor_atuacao', 'risco']\n",
    "\n",
    "# Verificação\n",
    "print(\"Colunas numéricas:\", colunas_numericas)\n",
    "print(\"Colunas categóricas:\", colunas_categoricas)"
   ]
  },
  {
   "cell_type": "code",
   "execution_count": 4,
   "id": "3c9eecbf-36b2-4bca-9ff3-c25b969fb271",
   "metadata": {},
   "outputs": [],
   "source": [
    "# Pipeline de pré-processamento\n",
    "preprocessador = ColumnTransformer([\n",
    "    ('numerico', StandardScaler(), colunas_numericas),\n",
    "    ('categorico', OneHotEncoder(handle_unknown='ignore'), colunas_categoricas)\n",
    "])\n",
    "\n",
    "# Pipeline completo: pré-processamento + modelo\n",
    "pipeline = Pipeline([\n",
    "    ('preprocessamento', preprocessador),\n",
    "    ('classificador', LogisticRegression(max_iter=1000))\n",
    "])"
   ]
  },
  {
   "cell_type": "code",
   "execution_count": 5,
   "id": "bf591249-bf27-47c1-9f4a-a7befd1aee62",
   "metadata": {},
   "outputs": [
    {
     "name": "stdout",
     "output_type": "stream",
     "text": [
      "Acurácia: 55.50%\n",
      "Relatório de Classificação:\n",
      "              precision    recall  f1-score   support\n",
      "\n",
      "           0       0.48      0.11      0.18        88\n",
      "           1       0.56      0.90      0.69       112\n",
      "\n",
      "    accuracy                           0.56       200\n",
      "   macro avg       0.52      0.51      0.44       200\n",
      "weighted avg       0.53      0.56      0.47       200\n",
      "\n"
     ]
    }
   ],
   "source": [
    "\n",
    "# Divisão dos dados\n",
    "X_treino, X_teste, y_treino, y_teste = train_test_split(X, y, test_size=0.2, random_state=42)\n",
    "\n",
    "# Treinamento do pipeline\n",
    "pipeline.fit(X_treino, y_treino)\n",
    "\n",
    "# Previsão\n",
    "y_pred = pipeline.predict(X_teste)\n",
    "\n",
    "# Avaliação\n",
    "acuracia = accuracy_score(y_teste, y_pred)\n",
    "relatorio = classification_report(y_teste, y_pred)\n",
    "\n",
    "# Resultados\n",
    "print(f\"Acurácia: {acuracia:.2%}\")\n",
    "print(\"Relatório de Classificação:\")\n",
    "print(relatorio)"
   ]
  },
  {
   "cell_type": "code",
   "execution_count": 6,
   "id": "a576b369-94e9-412d-a3b6-ce34a94cabc4",
   "metadata": {},
   "outputs": [
    {
     "name": "stdout",
     "output_type": "stream",
     "text": [
      "Modelo e métrica salvos com sucesso!\n"
     ]
    }
   ],
   "source": [
    "# Salvar modelo treinado\n",
    "joblib.dump(pipeline, \"logistic_model.joblib\")\n",
    "\n",
    "# Salvar métrica de acurácia separadamente (opcional)\n",
    "joblib.dump(acuracia, \"logistic_model_metrics.joblib\")\n",
    "\n",
    "print(\"Modelo e métrica salvos com sucesso!\")"
   ]
  },
  {
   "cell_type": "code",
   "execution_count": 7,
   "id": "eff86d6f-13a6-4928-96db-765959abcf81",
   "metadata": {},
   "outputs": [],
   "source": [
    "# Carregar o modelo treinado com joblib\n",
    "modelo = joblib.load(\"logistic_model.joblib\")\n",
    "\n",
    "# Re-salvar com cloudpickle\n",
    "with open(\"logistic_model.pkl\", \"wb\") as f:\n",
    "    cloudpickle.dump(modelo, f)"
   ]
  },
  {
   "cell_type": "code",
   "execution_count": null,
   "id": "ad7efa0e-6c76-48cf-8e43-f09c5cf24519",
   "metadata": {},
   "outputs": [],
   "source": []
  }
 ],
 "metadata": {
  "kernelspec": {
   "display_name": "Python 3 (ipykernel)",
   "language": "python",
   "name": "python3"
  },
  "language_info": {
   "codemirror_mode": {
    "name": "ipython",
    "version": 3
   },
   "file_extension": ".py",
   "mimetype": "text/x-python",
   "name": "python",
   "nbconvert_exporter": "python",
   "pygments_lexer": "ipython3",
   "version": "3.10.11"
  }
 },
>>>>>>> 574cdb05 (Versão inicial com modelo via cloudpickle)
 "nbformat": 4,
 "nbformat_minor": 5
}
