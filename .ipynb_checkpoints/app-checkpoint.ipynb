{
 "cells": [
  {
   "cell_type": "code",
   "execution_count": 2,
   "id": "1b9fb018-48bf-4029-b453-5912c3fa6214",
   "metadata": {},
   "outputs": [],
   "source": [
    "import streamlit as st\n",
    "import pandas as pd\n",
    "import joblib"
   ]
  },
  {
   "cell_type": "code",
   "execution_count": 3,
   "id": "f9b25a2f-240a-4e05-9371-26ffabb28cb8",
   "metadata": {},
   "outputs": [
    {
     "name": "stderr",
     "output_type": "stream",
     "text": [
      "2025-04-03 14:08:05.711 WARNING streamlit.runtime.scriptrunner_utils.script_run_context: Thread 'MainThread': missing ScriptRunContext! This warning can be ignored when running in bare mode.\n",
      "2025-04-03 14:08:05.788 \n",
      "  \u001b[33m\u001b[1mWarning:\u001b[0m to view this Streamlit app on a browser, run it with the following\n",
      "  command:\n",
      "\n",
      "    streamlit run /Users/izcastro/Desktop/ESCOLA DE IA/50 Aplicações de IA/Estudo/1º - Finanças/Para Portfólio/venv/lib/python3.12/site-packages/ipykernel_launcher.py [ARGUMENTS]\n",
      "2025-04-03 14:08:05.788 Thread 'MainThread': missing ScriptRunContext! This warning can be ignored when running in bare mode.\n",
      "2025-04-03 14:08:05.788 Thread 'MainThread': missing ScriptRunContext! This warning can be ignored when running in bare mode.\n",
      "2025-04-03 14:08:05.789 Thread 'MainThread': missing ScriptRunContext! This warning can be ignored when running in bare mode.\n"
     ]
    },
    {
     "data": {
      "text/plain": [
       "DeltaGenerator()"
      ]
     },
     "execution_count": 3,
     "metadata": {},
     "output_type": "execute_result"
    }
   ],
   "source": [
    "# Carrega o pipeline treinado\n",
    "modelo = joblib.load(\"logistic_model.joblib\")\n",
    "\n",
    "st.title(\"🔍 Análise de Viabilidade de Projetos\")\n",
    "st.subheader(\"Insira os parâmetros abaixo para prever se um projeto é viável ou não.\")"
   ]
  },
  {
   "cell_type": "code",
   "execution_count": 4,
   "id": "02e7fe7d-af79-4442-95b8-c65ab0c29ada",
   "metadata": {},
   "outputs": [
    {
     "name": "stderr",
     "output_type": "stream",
     "text": [
      "2025-04-03 14:08:07.507 Thread 'MainThread': missing ScriptRunContext! This warning can be ignored when running in bare mode.\n",
      "2025-04-03 14:08:07.508 Thread 'MainThread': missing ScriptRunContext! This warning can be ignored when running in bare mode.\n",
      "2025-04-03 14:08:07.509 Thread 'MainThread': missing ScriptRunContext! This warning can be ignored when running in bare mode.\n",
      "2025-04-03 14:08:07.510 Thread 'MainThread': missing ScriptRunContext! This warning can be ignored when running in bare mode.\n",
      "2025-04-03 14:08:07.510 Thread 'MainThread': missing ScriptRunContext! This warning can be ignored when running in bare mode.\n",
      "2025-04-03 14:08:07.511 Thread 'MainThread': missing ScriptRunContext! This warning can be ignored when running in bare mode.\n",
      "2025-04-03 14:08:07.512 Thread 'MainThread': missing ScriptRunContext! This warning can be ignored when running in bare mode.\n",
      "2025-04-03 14:08:07.512 Thread 'MainThread': missing ScriptRunContext! This warning can be ignored when running in bare mode.\n",
      "2025-04-03 14:08:07.513 Thread 'MainThread': missing ScriptRunContext! This warning can be ignored when running in bare mode.\n",
      "2025-04-03 14:08:07.513 Thread 'MainThread': missing ScriptRunContext! This warning can be ignored when running in bare mode.\n",
      "2025-04-03 14:08:07.514 Thread 'MainThread': missing ScriptRunContext! This warning can be ignored when running in bare mode.\n",
      "2025-04-03 14:08:07.514 Thread 'MainThread': missing ScriptRunContext! This warning can be ignored when running in bare mode.\n",
      "2025-04-03 14:08:07.515 Thread 'MainThread': missing ScriptRunContext! This warning can be ignored when running in bare mode.\n",
      "2025-04-03 14:08:07.515 Thread 'MainThread': missing ScriptRunContext! This warning can be ignored when running in bare mode.\n",
      "2025-04-03 14:08:07.516 Thread 'MainThread': missing ScriptRunContext! This warning can be ignored when running in bare mode.\n",
      "2025-04-03 14:08:07.516 Thread 'MainThread': missing ScriptRunContext! This warning can be ignored when running in bare mode.\n",
      "2025-04-03 14:08:07.517 Thread 'MainThread': missing ScriptRunContext! This warning can be ignored when running in bare mode.\n",
      "2025-04-03 14:08:07.518 Thread 'MainThread': missing ScriptRunContext! This warning can be ignored when running in bare mode.\n",
      "2025-04-03 14:08:07.519 Thread 'MainThread': missing ScriptRunContext! This warning can be ignored when running in bare mode.\n",
      "2025-04-03 14:08:07.519 Session state does not function when running a script without `streamlit run`\n",
      "2025-04-03 14:08:07.520 Thread 'MainThread': missing ScriptRunContext! This warning can be ignored when running in bare mode.\n",
      "2025-04-03 14:08:07.521 Thread 'MainThread': missing ScriptRunContext! This warning can be ignored when running in bare mode.\n",
      "2025-04-03 14:08:07.521 Thread 'MainThread': missing ScriptRunContext! This warning can be ignored when running in bare mode.\n",
      "2025-04-03 14:08:07.522 Thread 'MainThread': missing ScriptRunContext! This warning can be ignored when running in bare mode.\n",
      "2025-04-03 14:08:07.522 Thread 'MainThread': missing ScriptRunContext! This warning can be ignored when running in bare mode.\n",
      "2025-04-03 14:08:07.523 Thread 'MainThread': missing ScriptRunContext! This warning can be ignored when running in bare mode.\n",
      "2025-04-03 14:08:07.523 Thread 'MainThread': missing ScriptRunContext! This warning can be ignored when running in bare mode.\n",
      "2025-04-03 14:08:07.524 Thread 'MainThread': missing ScriptRunContext! This warning can be ignored when running in bare mode.\n",
      "2025-04-03 14:08:07.524 Thread 'MainThread': missing ScriptRunContext! This warning can be ignored when running in bare mode.\n",
      "2025-04-03 14:08:07.525 Thread 'MainThread': missing ScriptRunContext! This warning can be ignored when running in bare mode.\n",
      "2025-04-03 14:08:07.525 Thread 'MainThread': missing ScriptRunContext! This warning can be ignored when running in bare mode.\n",
      "2025-04-03 14:08:07.525 Thread 'MainThread': missing ScriptRunContext! This warning can be ignored when running in bare mode.\n",
      "2025-04-03 14:08:07.526 Thread 'MainThread': missing ScriptRunContext! This warning can be ignored when running in bare mode.\n",
      "2025-04-03 14:08:07.526 Thread 'MainThread': missing ScriptRunContext! This warning can be ignored when running in bare mode.\n",
      "2025-04-03 14:08:07.526 Thread 'MainThread': missing ScriptRunContext! This warning can be ignored when running in bare mode.\n",
      "2025-04-03 14:08:07.527 Thread 'MainThread': missing ScriptRunContext! This warning can be ignored when running in bare mode.\n",
      "2025-04-03 14:08:07.527 Thread 'MainThread': missing ScriptRunContext! This warning can be ignored when running in bare mode.\n",
      "2025-04-03 14:08:07.528 Thread 'MainThread': missing ScriptRunContext! This warning can be ignored when running in bare mode.\n",
      "2025-04-03 14:08:07.528 Thread 'MainThread': missing ScriptRunContext! This warning can be ignored when running in bare mode.\n",
      "2025-04-03 14:08:07.528 Thread 'MainThread': missing ScriptRunContext! This warning can be ignored when running in bare mode.\n"
     ]
    }
   ],
   "source": [
    "# Entradas numéricas\n",
    "tempo = st.slider(\"Tempo de execução (meses)\", 3, 24, 12)\n",
    "custo = st.slider(\"Custo total (mil R$)\", 50, 1000, 300)\n",
    "recursos = st.slider(\"Número de pessoas envolvidas\", 1, 30, 10)\n",
    "\n",
    "# Entradas categóricas\n",
    "complexidade = st.selectbox(\"Complexidade técnica\", [\"Baixa\", \"Média\", \"Alta\"])\n",
    "inovacao = st.selectbox(\"Grau de inovação\", [\"Baixo\", \"Médio\", \"Alto\"])\n",
    "setor = st.selectbox(\"Setor de atuação\", [\"Educação\", \"Saúde\", \"Financeiro\", \"Tecnologia\", \"Industrial\"])\n",
    "risco = st.selectbox(\"Grau de risco\", [\"Baixo\", \"Médio\", \"Alto\"])"
   ]
  },
  {
   "cell_type": "code",
   "execution_count": 5,
   "id": "b4f5d095-d1ae-4af9-9fda-54382c851045",
   "metadata": {},
   "outputs": [
    {
     "name": "stderr",
     "output_type": "stream",
     "text": [
      "2025-04-03 14:08:20.900 Thread 'MainThread': missing ScriptRunContext! This warning can be ignored when running in bare mode.\n",
      "2025-04-03 14:08:20.901 Thread 'MainThread': missing ScriptRunContext! This warning can be ignored when running in bare mode.\n",
      "2025-04-03 14:08:20.902 Thread 'MainThread': missing ScriptRunContext! This warning can be ignored when running in bare mode.\n",
      "2025-04-03 14:08:20.903 Thread 'MainThread': missing ScriptRunContext! This warning can be ignored when running in bare mode.\n",
      "2025-04-03 14:08:20.904 Thread 'MainThread': missing ScriptRunContext! This warning can be ignored when running in bare mode.\n"
     ]
    }
   ],
   "source": [
    "# Cria o DataFrame com as entradas\n",
    "entrada = pd.DataFrame([{\n",
    "    \"tempo_execucao_meses\": tempo,\n",
    "    \"custo_total_mil_reais\": custo,\n",
    "    \"recursos_humanos\": recursos,\n",
    "    \"complexidade_tecnica\": complexidade,\n",
    "    \"grau_inovacao\": inovacao,\n",
    "    \"setor_atuacao\": setor,\n",
    "    \"risco\": risco\n",
    "}])\n",
    "\n",
    "# Previsão\n",
    "if st.button(\"Verificar Viabilidade\"):\n",
    "    previsao = modelo.predict(entrada)[0]\n",
    "    probabilidade = modelo.predict_proba(entrada)[0][1]\n",
    "\n",
    "    if previsao == 1:\n",
    "        st.success(f\"✅ Projeto viável com {probabilidade:.1%} de confiança.\")\n",
    "    else:\n",
    "        st.error(f\"❌ Projeto inviável com apenas {probabilidade:.1%} de chance de sucesso.\")\n"
   ]
  },
  {
   "cell_type": "code",
   "execution_count": null,
   "id": "e22473ff-b1c9-452b-9e81-20d73d1f240f",
   "metadata": {},
   "outputs": [],
   "source": []
  }
 ],
 "metadata": {
  "kernelspec": {
   "display_name": "Python 3 (ipykernel)",
   "language": "python",
   "name": "python3"
  },
  "language_info": {
   "codemirror_mode": {
    "name": "ipython",
    "version": 3
   },
   "file_extension": ".py",
   "mimetype": "text/x-python",
   "name": "python",
   "nbconvert_exporter": "python",
   "pygments_lexer": "ipython3",
   "version": "3.12.3"
  }
 },
 "nbformat": 4,
 "nbformat_minor": 5
}
